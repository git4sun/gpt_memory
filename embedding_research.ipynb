{
 "cells": [
  {
   "cell_type": "code",
   "execution_count": 16,
   "metadata": {},
   "outputs": [],
   "source": [
    "import sys\n",
    "sys.path.append(\"..\") \n",
    "\n",
    "import numpy as np\n",
    "from chatgpt import *\n",
    "ai = OpenAI()\n"
   ]
  },
  {
   "cell_type": "code",
   "execution_count": 17,
   "metadata": {},
   "outputs": [],
   "source": [
    "text = '床前明月光'\n",
    "sentence = ai.get_embedding(text)\n",
    "\n",
    "# word level embedding distance\n",
    "chars = []\n",
    "for c in text:\n",
    "    chars.append(ai.get_embedding(c))\n",
    "word_level = [np.dot(ec, sentence) for ec in chars]\n"
   ]
  },
  {
   "cell_type": "code",
   "execution_count": 36,
   "metadata": {},
   "outputs": [],
   "source": [
    "def omit_n(sentence, n=1):\n",
    "    omit_one = []\n",
    "    for i in range(len(text)-n+1):\n",
    "        omit_one.append(ai.get_embedding(text[:i]+text[i+n:]))\n",
    "    omit_one_dist = [np.dot(ec, sentence) for ec in omit_one]\n",
    "    return omit_one, omit_one_dist"
   ]
  },
  {
   "cell_type": "code",
   "execution_count": 39,
   "metadata": {},
   "outputs": [
    {
     "name": "stdout",
     "output_type": "stream",
     "text": [
      "-----------  1  ------------\n",
      "[0.9424666921387664, 0.9731235223260781, 0.988554893796411, 0.9597640991580602, 0.9730128336500461]\n",
      "[0.9424666921387664, 0.9731235223260781, 0.988554893796411, 0.9597640991580602, 0.9730128336500461]\n",
      "-----------  2  ------------\n",
      "[0.8724617531395156, 0.9622961883522612, 0.9356827650542877, 0.9246621737241265]\n",
      "[0.8724617531395156, 0.9622961883522612, 0.9356827650542877, 0.9246621737241265]\n",
      "-----------  3  ------------\n",
      "[0.9070932502955735, 0.9098453439949571, 0.8904135117602364]\n",
      "[0.9070932502955735, 0.9098453439949571, 0.8904135117602364]\n",
      "-----------  4  ------------\n",
      "[0.8222191561443433, 0.8621291200334225]\n",
      "[0.8222191561443433, 0.8621291200334225]\n"
     ]
    }
   ],
   "source": [
    "for i in range(1,5):\n",
    "    print('----------- ', i, ' ------------')\n",
    "    embedding, distance = omit_n(sentence, i)\n",
    "    print(distance)"
   ]
  },
  {
   "cell_type": "code",
   "execution_count": 40,
   "metadata": {},
   "outputs": [
    {
     "name": "stdout",
     "output_type": "stream",
     "text": [
      "0.8504037686198024\n"
     ]
    }
   ],
   "source": [
    "title = ai.get_embedding('静夜思')\n",
    "print(np.dot(title, sentence))"
   ]
  },
  {
   "cell_type": "code",
   "execution_count": 41,
   "metadata": {},
   "outputs": [
    {
     "name": "stdout",
     "output_type": "stream",
     "text": [
      "0.8682213038478372 0.9382382435933658\n"
     ]
    }
   ],
   "source": [
    "full = ai.get_embedding('床前明月光，疑是地上霜，举头望明月，低头思故乡')\n",
    "print(np.dot(title, full), np.dot(sentence, full))"
   ]
  },
  {
   "cell_type": "code",
   "execution_count": 42,
   "metadata": {},
   "outputs": [
    {
     "name": "stdout",
     "output_type": "stream",
     "text": [
      "0.8630225903378774 0.9150879356798904 0.8814665661075815\n"
     ]
    }
   ],
   "source": [
    "s1 = ai.get_embedding('疑是地上霜')\n",
    "s2 = ai.get_embedding('举头望明月')\n",
    "s3 = ai.get_embedding('低头思故乡')\n",
    "print(np.dot(s1, full), np.dot(s2, full), np.dot(s3, full), )"
   ]
  },
  {
   "cell_type": "code",
   "execution_count": 43,
   "metadata": {},
   "outputs": [],
   "source": [
    "txt = '''\n",
    "钱塘江浩浩江水，日日夜夜无穷无休的从临安牛家村边绕过，东流入海。\n",
    "\n",
    "    江畔一排数十株乌柏树，叶子似火烧般红，正是八月天时。村前村后的野草刚起始变黄，一抹斜阳映照之下，更增了几分萧索。两株大松树下围着一堆村民，男男女女和十几个小孩，正自聚精会神的听着一个瘦削的老者说话。\n",
    "\n",
    "    那说话人五十来岁年纪，一件青布长袍早洗得褪成了蓝灰色。只听他两片梨花木板碰了几下，左手中竹棒在一面小羯鼓上敲起得得连声。唱道：“小桃无主自开花，烟草茫茫带晚鸦。几处败垣围故井，向来一一是人家。”\n",
    "\n",
    "    那说话人将木板敲了几下，说道：“这首七言诗，说的是兵火过后，原来的家家户户，都变成了断墙残瓦的破败之地。小人刚才说到那叶老汉一家四口，悲欢离合，聚了又散，散了又聚。他四人给金兵冲散，好容易又再团聚，欢天喜地的回到故乡，却见房屋已给金兵烧得干干净净，无可奈何，只得去到汴梁，想觅个生计。不料想：天有不测风云，人有旦夕祸福。他四人刚进汴梁城，迎面便过来一队金兵。带兵的头儿一双三角眼觑将过去，见那叶三姐生得美貌，跳下马来，当即一把抱住，哈哈大笑，便将她放上了马鞍，说道：小姑娘，跟我回家，服侍老爷。那叶三姐如何肯从拼命挣扎。那金兵长官喝道：你不肯从我，便杀了你的父母兄弟提起狼牙棒，一棒打在那叶四郎的头上，登时脑浆迸裂，一命呜呼。正是：阴世新添枉死鬼，阳间不见少年人\n",
    "\n",
    "    叶老汉和妈妈吓得呆了，扑将上去，搂住了儿子的死尸，放声大哭。\n",
    "\n",
    "    那长官提起狼牙棒，一棒一个，又都了帐。那叶三姐却不啼哭，说道：长官休得凶恶，我跟你回家便了那长官大喜，将叶三姐带得回家。不料叶三姐觑他不防，突然抢步过去，拔出那长官的腰刀，对准了他心口，一刀刺将过去，说时迟，那时快，这一刀刺去，眼见便可报得父母兄弟的大仇。不料那长官久经战阵，武艺精熟，顺手一推，叶三姐登时摔了出去，那长官刚骂得一声：小贱人叶三姐已举起钢刀，在脖子中一勒。可怜她：花容月貌无双女，惆怅芳魂赴九泉。”\n",
    "\n",
    "    他说一段，唱一段，只听得众村民无不咬牙切齿，愤怒叹息。\n",
    "\n",
    "    那人又道：“众位看官，常言道得好：为人切莫用欺心，举头三尺有神明。若还作恶无报应，天下凶徒人吃人。可是那金兵占了我大宋天下，杀人放火，奸淫掳掠，无恶不作，却又不见他遭到什么报应。只怪我大宋官家不争气，我中国本来兵多将广，可是一见到金兵到来，便远远的逃之夭夭，只剩下老百姓遭殃。好似那叶三姐一家的惨祸，江北之地，实是成千成万，便如家常便饭一般。诸君住在江南，当真是在天堂里了，怕只怕金兵何日到来。正是：宁作太平犬，莫为乱世人。小人张十五，今日路经贵地，服侍众位看官这一段说话，叫作叶三姐节烈记话本说彻，权作散场。”将两片梨花木板拍拍拍的乱敲一阵，托出一只盘子。\n",
    "\n",
    "    众村民便有人拿出两文三文，放入木盘，霎时间得了六七十文。张十五谢了，将铜钱放入囊中，便欲起行。\n",
    "\n",
    "    村民中走出一个二十来岁的人汉，说道：“张先生，你可是从北方来吗”\n",
    "\n",
    "    张十五见他身材魁梧，浓眉大眼，便道：“正是。”那大汉道：“小弟作东，请先生去饮上三杯如何”张十五大喜，说道：“素不相识，怎敢叨扰”\n",
    "\n",
    "    那大汉笑道：“喝上三怀，那便相识了。我姓郭，名叫郭啸天。”指着身旁一个白净面皮的汉子道：“这位是杨铁心杨兄弟。适才我二人听先生说唱叶三姐节烈记，果然是说得好，却有几句话想要请问。”张十五道：“好说，好说。今日得遇郭杨二位，也是有缘。”\n",
    "\n",
    "    郭啸天带着张十五来到村头一家小酒店中，在张饭桌旁坐小酒店的主人是个跛子，撑着两根拐杖，慢慢烫了两壶黄酒，摆出一碟蚕豆、一碟咸花生，一碟豆腐干，另有三个切开的咸蛋，自行在门口板凳上坐了，抬头瞧着天边正要落山的太阳，却不更向三人望上一眼。\n",
    "'''"
   ]
  },
  {
   "cell_type": "code",
   "execution_count": 45,
   "metadata": {},
   "outputs": [
    {
     "name": "stdout",
     "output_type": "stream",
     "text": [
      "0.9078972764122575 \t\t 钱塘江浩浩江水，日日夜夜无穷无休的从临安牛家村边绕过，东流入海。\n",
      "0.9180385333509213 \t\t 江畔一排数十株乌柏树，叶子似火烧般红，正是八月天时。村前村后的野草刚起始变黄，一抹斜阳映照之下，更增了几分萧索。两株大松树下围着一堆村民，男男女女和十几个小孩，正自聚精会神的听着一个瘦削的老者说话。\n",
      "0.9174188754306799 \t\t 那说话人五十来岁年纪，一件青布长袍早洗得褪成了蓝灰色。只听他两片梨花木板碰了几下，左手中竹棒在一面小羯鼓上敲起得得连声。唱道：“小桃无主自开花，烟草茫茫带晚鸦。几处败垣围故井，向来一一是人家。”\n",
      "0.9302294046797591 \t\t 那说话人将木板敲了几下，说道：“这首七言诗，说的是兵火过后，原来的家家户户，都变成了断墙残瓦的破败之地。小人刚才说到那叶老汉一家四口，悲欢离合，聚了又散，散了又聚。他四人给金兵冲散，好容易又再团聚，欢天喜地的回到故乡，却见房屋已给金兵烧得干干净净，无可奈何，只得去到汴梁，想觅个生计。不料想：天有不测风云，人有旦夕祸福。他四人刚进汴梁城，迎面便过来一队金兵。带兵的头儿一双三角眼觑将过去，见那叶三姐生得美貌，跳下马来，当即一把抱住，哈哈大笑，便将她放上了马鞍，说道：小姑娘，跟我回家，服侍老爷。那叶三姐如何肯从拼命挣扎。那金兵长官喝道：你不肯从我，便杀了你的父母兄弟提起狼牙棒，一棒打在那叶四郎的头上，登时脑浆迸裂，一命呜呼。正是：阴世新添枉死鬼，阳间不见少年人\n",
      "0.857877913795909 \t\t 叶老汉和妈妈吓得呆了，扑将上去，搂住了儿子的死尸，放声大哭。\n",
      "0.903856979680511 \t\t 那长官提起狼牙棒，一棒一个，又都了帐。那叶三姐却不啼哭，说道：长官休得凶恶，我跟你回家便了那长官大喜，将叶三姐带得回家。不料叶三姐觑他不防，突然抢步过去，拔出那长官的腰刀，对准了他心口，一刀刺将过去，说时迟，那时快，这一刀刺去，眼见便可报得父母兄弟的大仇。不料那长官久经战阵，武艺精熟，顺手一推，叶三姐登时摔了出去，那长官刚骂得一声：小贱人叶三姐已举起钢刀，在脖子中一勒。可怜她：花容月貌无双女，惆怅芳魂赴九泉。”\n",
      "0.8628839313585739 \t\t 他说一段，唱一段，只听得众村民无不咬牙切齿，愤怒叹息。\n",
      "0.9152990403124689 \t\t 那人又道：“众位看官，常言道得好：为人切莫用欺心，举头三尺有神明。若还作恶无报应，天下凶徒人吃人。可是那金兵占了我大宋天下，杀人放火，奸淫掳掠，无恶不作，却又不见他遭到什么报应。只怪我大宋官家不争气，我中国本来兵多将广，可是一见到金兵到来，便远远的逃之夭夭，只剩下老百姓遭殃。好似那叶三姐一家的惨祸，江北之地，实是成千成万，便如家常便饭一般。诸君住在江南，当真是在天堂里了，怕只怕金兵何日到来。正是：宁作太平犬，莫为乱世人。小人张十五，今日路经贵地，服侍众位看官这一段说话，叫作叶三姐节烈记话本说彻，权作散场。”将两片梨花木板拍拍拍的乱敲一阵，托出一只盘子。\n",
      "0.8832898868610912 \t\t 众村民便有人拿出两文三文，放入木盘，霎时间得了六七十文。张十五谢了，将铜钱放入囊中，便欲起行。\n",
      "0.856610208448606 \t\t 村民中走出一个二十来岁的人汉，说道：“张先生，你可是从北方来吗”\n",
      "0.8694435157507274 \t\t 张十五见他身材魁梧，浓眉大眼，便道：“正是。”那大汉道：“小弟作东，请先生去饮上三杯如何”张十五大喜，说道：“素不相识，怎敢叨扰”\n",
      "0.8934458583328582 \t\t 那大汉笑道：“喝上三怀，那便相识了。我姓郭，名叫郭啸天。”指着身旁一个白净面皮的汉子道：“这位是杨铁心杨兄弟。适才我二人听先生说唱叶三姐节烈记，果然是说得好，却有几句话想要请问。”张十五道：“好说，好说。今日得遇郭杨二位，也是有缘。”\n",
      "0.9100925751904073 \t\t 郭啸天带着张十五来到村头一家小酒店中，在张饭桌旁坐小酒店的主人是个跛子，撑着两根拐杖，慢慢烫了两壶黄酒，摆出一碟蚕豆、一碟咸花生，一碟豆腐干，另有三个切开的咸蛋，自行在门口板凳上坐了，抬头瞧着天边正要落山的太阳，却不更向三人望上一眼。\n"
     ]
    }
   ],
   "source": [
    "embd = ai.get_embedding(txt)\n",
    "sent_embd = {}\n",
    "for s in txt.split():\n",
    "    sent_embd[s] = ai.get_embedding(s)\n",
    "    print(np.dot(sent_embd[s], embd), '\\t\\t', s)"
   ]
  },
  {
   "cell_type": "code",
   "execution_count": 47,
   "metadata": {},
   "outputs": [
    {
     "name": "stdout",
     "output_type": "stream",
     "text": [
      "0.8483625324864463\n"
     ]
    }
   ],
   "source": [
    "ext = '大厅里一片安静,黄石点了点头,平静的说道：“金副将说地很有道理.继续说下去吧.”'\n",
    "ext_emb = ai.get_embedding(ext)\n",
    "print(np.dot(ext_emb, embd))"
   ]
  },
  {
   "cell_type": "code",
   "execution_count": 52,
   "metadata": {},
   "outputs": [
    {
     "name": "stdout",
     "output_type": "stream",
     "text": [
      "0.7740458055144132\n"
     ]
    }
   ],
   "source": [
    "ext = '''\n",
    "THERE ARE NONE who can say with certain knowledge when the world began, yet this has not \n",
    "stopped many maesters and learned men from seeking the answer. Is it forty thousand years old, as \n",
    "some hold, or perhaps a number as large as five hundred thousand — or even more? It is not written in \n",
    "any book that we know, for in the first age of the world, the Dawn Age, men were not lettered. \n",
    "\n",
    "We can be certain that the world was far more primitive, however — a barbarous place of tribes \n",
    "living directly from the land with no knowledge of the working of metal or the taming of beasts. What \n",
    "little is known to us of those days is contained in the oldest of texts: the tales written down by the \n",
    "Andals, by the Valyrians, and by the Ghiscari, and even by those distant people of fabled Asshai. Yet \n",
    "however ancient those lettered races, they were not even children during the Dawn Age. So what \n",
    "truths their tales contain are difficult to find, like seeds among chaff. \n",
    "\n",
    "What can most accurately be told about the Dawn Age? The eastern lands were awash with many \n",
    "peoples — uncivilized, as all the world was uncivilized, but numerous. But on Westeros, from the \n",
    "Lands of Always Winter to the shores of the Summer Sea, only two peoples existed: the children of \n",
    "the forest and the race of creatures known as the giants. \n",
    "\n",
    "Of the giants in the Dawn Age, little and less can be said, for no one has gathered their tales, their \n",
    "legends, their histories. Men of the Watch say the wildlings have tales of the giants living uneasily \n",
    "alongside the children, ranging where they would and taking what they wanted. All the accounts claim \n",
    "that they were huge and powerful creatures, but simple. Reliable accounts from the rangers of the \n",
    "Night’s Watch, who were the last men to see the giants while they still lived, state that they were \n",
    "covered in a thick fur rather than simply being very large men as the nursery tales hold. \n",
    "\n",
    "There is considerable evidence of burials among the giants, as recorded in Maester Kennet’s \n",
    "Passages of the Dead — a study of the barrow fields and graves and tombs of the North in his time of \n",
    "service at Winterfell, during the long reign of Cregan Stark. From bones that have been found in the \n",
    "North and sent to the Citadel, some maesters estimate that the largest of the giants could reach \n",
    "fourteen feet, though others say twelve feet is nearer the truth. The tales of long-dead rangers written \n",
    "down by maesters of the Watch all agree that the giants did not make homes or garments, and knew of \n",
    "no better tools or weapons than branches pulled from trees. \n",
    "\n",
    "\n",
    "The archives of the Citadel contain a letter from Maester Aemon, sent in the early years of \n",
    "the reign of Aegon Y which reports on an account from a ranger named Redwyn, written in \n",
    "the days of King Dorren Stark. It recounts a journey to Lorn Point and the Frozen Shore, in \n",
    "which it is claimed that the ranger and his companions fought giants and traded with the \n",
    "children of the forest. Aemon’s letter claimed that he had found many such accounts in his \n",
    "examinations of the archives of the Watch at Castle Black, and considered them credible. \n",
    "\n",
    "\n",
    "The giants had no kings and no lords, made no homes save in caverns or beneath tall trees, and they \n",
    "worked neither metal nor fields. They remained creatures of the Dawn Age even as the ages passed \n",
    "\n",
    "\n",
    "them by, men grew ever more numerous, and the forests were tamed and dwindled. Now the giants \n",
    "are gone even in the lands beyond the Wall, and the last reports of them are more than a hundred years \n",
    "old. And even those are dubious — tales that rangers of the Watch might tell over a warm fire. \n",
    "\n",
    "The children of the forest were, in many ways, the opposites of the giants. As small as children but \n",
    "dark and beautiful, they lived in a manner we might call crude today, yet they were still less \n",
    "barbarous than the giants. They worked no metal, but they had great art in working obsidian (what the \n",
    "smallfolk call dragonglass, while the Valyrians knew it by a word meaning “frozen fire”) to make \n",
    "tools and weapons for hunting. They wove no cloths but were skilled in making garments of leaves \n",
    "and bark. They learned to make bows of weirwood and to construct flying snares of grass, and both of \n",
    "the sexes hunted with these. \n",
    "\n",
    "Their song and music was said to be as beautiful as they were, but what they sang of is not \n",
    "remembered save in small fragments handed down from ancient days. Maester Childer’s Winter’s \n",
    "Kings, or the Legends and Lineages of the Starks of Winterfell contains a part of a ballad alleged to \n",
    "tell of the time Brandon the Builder sought the aid of the children while raising the Wall. He was \n",
    "taken to a secret place to meet with them, but could not at first understand their speech, which was \n",
    "described as sounding like the song of stones in a brook, or the wind through leaves, or the rain upon \n",
    "the water. The manner in which Brandon learned to comprehend the speech of the children is a tale in \n",
    "itself, and not worth repeating here. But it seems clear that their speech originated, or drew \n",
    "inspiration from, the sounds they heard every day. \n",
    "\n",
    "The gods the children worshipped were the nameless ones that would one day become the gods of \n",
    "the First Men — the innumerable gods of the streams and forests and stones. It was the children who \n",
    "carved the weirwoods with faces, perhaps to give eyes to their gods so that they might watch their \n",
    "worshippers at their devotions. Others, with little evidence, claim that the greenseers — the wise men \n",
    "of the children — were able to see through the eyes of the carved weirwoods. The supposed proof is \n",
    "the fact that the First Men themselves believed this; it was their fear of the weirwoods spying upon \n",
    "them that drove them to cut down many of the carved trees and weirwood groves, to deny the children \n",
    "such an advantage. Yet the First Men were less learned than we are now, and credited things that their \n",
    "descendants today do not; consider Maester Yorrick’s Wed to the Sea, Being an Account of the \n",
    "History of White Harbor from Its Earliest Days, which recounts the practice of blood sacrifice to \n",
    "the old gods. Such sacrifices persisted as recently as five centuries ago, according to accounts from \n",
    "Maester Yorrick’s predecessors at White Harbor. \n",
    "'''\n",
    "ext_emb = ai.get_embedding(ext)\n",
    "print(np.dot(ext_emb, embd))"
   ]
  },
  {
   "cell_type": "code",
   "execution_count": 61,
   "metadata": {},
   "outputs": [
    {
     "name": "stdout",
     "output_type": "stream",
     "text": [
      "0.820293920143998\n"
     ]
    }
   ],
   "source": [
    "txt = '''From their great citadel Storm’s End, the Storm Kings of House Durrandon had once ruled the \n",
    "eastern half of Westeros from Cape Wrath to the Bay of Crabs, but their powers had been \n",
    "dwindling for centuries. The Kings of the Reach had nibbled at their domains from the west, the \n",
    "Dornishmen harassed them from the south, and Harren the Black and his ironmen had pushed them \n",
    "from the Trident and the lands north of the Blackwater Rush. King Argilac, last of the Durrandon, \n",
    "had arrested this decline for a time, turning back a Dornish invasion whilst still a boy, crossing the \n",
    "narrow sea to join the great alliance against the imperialist “tigers” of Volantis, and slaying Garse \n",
    "VII Gardener, King of the Reach, in the Battle of Summerfield twenty years later. But Argilac had \n",
    "grown older; his famous mane of black hair had gone grey, and his prowess at arms had faded.  \n",
    " '''\n",
    "hp_emb = ai.get_embedding(txt)\n",
    "print(np.dot(ext_emb, hp_emb))"
   ]
  },
  {
   "cell_type": "code",
   "execution_count": null,
   "metadata": {},
   "outputs": [],
   "source": []
  }
 ],
 "metadata": {
  "kernelspec": {
   "display_name": "Python 3",
   "language": "python",
   "name": "python3"
  },
  "language_info": {
   "codemirror_mode": {
    "name": "ipython",
    "version": 3
   },
   "file_extension": ".py",
   "mimetype": "text/x-python",
   "name": "python",
   "nbconvert_exporter": "python",
   "pygments_lexer": "ipython3",
   "version": "3.11.4"
  },
  "orig_nbformat": 4
 },
 "nbformat": 4,
 "nbformat_minor": 2
}
